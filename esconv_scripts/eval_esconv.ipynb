{
 "cells": [
  {
   "cell_type": "code",
   "execution_count": 1,
   "metadata": {},
   "outputs": [],
   "source": [
    "import os \n",
    "import re \n",
    "import json \n",
    "import numpy as np \n",
    "import pandas as pd \n",
    "from collections import defaultdict, Counter\n",
    "from utils import distinct_2\n",
    "from nltk import word_tokenize"
   ]
  },
  {
   "cell_type": "code",
   "execution_count": 2,
   "metadata": {},
   "outputs": [],
   "source": [
    "gt_df = pd.read_csv(\"../datasets/esconv/test.csv\", index_col=None, header=0)\n",
    "gt_history = gt_df['history'].tolist()\n",
    "gt_texts = gt_df['target'].tolist()\n",
    "gt_strategy = gt_df['strategy'].tolist()"
   ]
  },
  {
   "cell_type": "code",
   "execution_count": 3,
   "metadata": {},
   "outputs": [
    {
     "data": {
      "text/html": [
       "<div>\n",
       "<style scoped>\n",
       "    .dataframe tbody tr th:only-of-type {\n",
       "        vertical-align: middle;\n",
       "    }\n",
       "\n",
       "    .dataframe tbody tr th {\n",
       "        vertical-align: top;\n",
       "    }\n",
       "\n",
       "    .dataframe thead th {\n",
       "        text-align: right;\n",
       "    }\n",
       "</style>\n",
       "<table border=\"1\" class=\"dataframe\">\n",
       "  <thead>\n",
       "    <tr style=\"text-align: right;\">\n",
       "      <th></th>\n",
       "      <th>dialog_id</th>\n",
       "      <th>turn_id</th>\n",
       "      <th>strategy</th>\n",
       "      <th>history</th>\n",
       "      <th>target</th>\n",
       "    </tr>\n",
       "  </thead>\n",
       "  <tbody>\n",
       "    <tr>\n",
       "      <th>0</th>\n",
       "      <td>1200</td>\n",
       "      <td>1</td>\n",
       "      <td>0</td>\n",
       "      <td>[speaker1]Hi there, how are things?[speaker2]</td>\n",
       "      <td>Hi Can I help you</td>\n",
       "    </tr>\n",
       "    <tr>\n",
       "      <th>1</th>\n",
       "      <td>1200</td>\n",
       "      <td>3</td>\n",
       "      <td>1</td>\n",
       "      <td>[speaker1]Hi there, how are things?[speaker2]H...</td>\n",
       "      <td>You tell me</td>\n",
       "    </tr>\n",
       "    <tr>\n",
       "      <th>2</th>\n",
       "      <td>1200</td>\n",
       "      <td>4</td>\n",
       "      <td>1</td>\n",
       "      <td>[speaker1]Hi there, how are things?[speaker2]H...</td>\n",
       "      <td>That's so sad. I am sorry!</td>\n",
       "    </tr>\n",
       "    <tr>\n",
       "      <th>3</th>\n",
       "      <td>1200</td>\n",
       "      <td>6</td>\n",
       "      <td>2</td>\n",
       "      <td>[speaker1]Hi there, how are things?[speaker2]H...</td>\n",
       "      <td>I can understand very how your mom is going th...</td>\n",
       "    </tr>\n",
       "    <tr>\n",
       "      <th>4</th>\n",
       "      <td>1200</td>\n",
       "      <td>8</td>\n",
       "      <td>4</td>\n",
       "      <td>[speaker1]Hi there, how are things?[speaker2]H...</td>\n",
       "      <td>Time will heel her. That I can assure you.</td>\n",
       "    </tr>\n",
       "    <tr>\n",
       "      <th>...</th>\n",
       "      <td>...</td>\n",
       "      <td>...</td>\n",
       "      <td>...</td>\n",
       "      <td>...</td>\n",
       "      <td>...</td>\n",
       "    </tr>\n",
       "    <tr>\n",
       "      <th>1364</th>\n",
       "      <td>1299</td>\n",
       "      <td>13</td>\n",
       "      <td>6</td>\n",
       "      <td>[speaker2]Hi, can i help today? Please, tell m...</td>\n",
       "      <td>That is a good idea too. Having boundaries is ...</td>\n",
       "    </tr>\n",
       "    <tr>\n",
       "      <th>1365</th>\n",
       "      <td>1299</td>\n",
       "      <td>15</td>\n",
       "      <td>5</td>\n",
       "      <td>[speaker2]Hi, can i help today? Please, tell m...</td>\n",
       "      <td>I understand that friends can disappoint us so...</td>\n",
       "    </tr>\n",
       "    <tr>\n",
       "      <th>1366</th>\n",
       "      <td>1299</td>\n",
       "      <td>17</td>\n",
       "      <td>6</td>\n",
       "      <td>[speaker2]Hi, can i help today? Please, tell m...</td>\n",
       "      <td>I am proud of you today because you reached ou...</td>\n",
       "    </tr>\n",
       "    <tr>\n",
       "      <th>1367</th>\n",
       "      <td>1299</td>\n",
       "      <td>19</td>\n",
       "      <td>6</td>\n",
       "      <td>[speaker2]Hi, can i help today? Please, tell m...</td>\n",
       "      <td>Yes, you're growing and trying to do your best...</td>\n",
       "    </tr>\n",
       "    <tr>\n",
       "      <th>1368</th>\n",
       "      <td>1299</td>\n",
       "      <td>21</td>\n",
       "      <td>5</td>\n",
       "      <td>[speaker2]Hi, can i help today? Please, tell m...</td>\n",
       "      <td>You are welcome and here for you anytime. I am...</td>\n",
       "    </tr>\n",
       "  </tbody>\n",
       "</table>\n",
       "<p>1369 rows × 5 columns</p>\n",
       "</div>"
      ],
      "text/plain": [
       "      dialog_id  turn_id  strategy  \\\n",
       "0          1200        1         0   \n",
       "1          1200        3         1   \n",
       "2          1200        4         1   \n",
       "3          1200        6         2   \n",
       "4          1200        8         4   \n",
       "...         ...      ...       ...   \n",
       "1364       1299       13         6   \n",
       "1365       1299       15         5   \n",
       "1366       1299       17         6   \n",
       "1367       1299       19         6   \n",
       "1368       1299       21         5   \n",
       "\n",
       "                                                history  \\\n",
       "0         [speaker1]Hi there, how are things?[speaker2]   \n",
       "1     [speaker1]Hi there, how are things?[speaker2]H...   \n",
       "2     [speaker1]Hi there, how are things?[speaker2]H...   \n",
       "3     [speaker1]Hi there, how are things?[speaker2]H...   \n",
       "4     [speaker1]Hi there, how are things?[speaker2]H...   \n",
       "...                                                 ...   \n",
       "1364  [speaker2]Hi, can i help today? Please, tell m...   \n",
       "1365  [speaker2]Hi, can i help today? Please, tell m...   \n",
       "1366  [speaker2]Hi, can i help today? Please, tell m...   \n",
       "1367  [speaker2]Hi, can i help today? Please, tell m...   \n",
       "1368  [speaker2]Hi, can i help today? Please, tell m...   \n",
       "\n",
       "                                                 target  \n",
       "0                                     Hi Can I help you  \n",
       "1                                           You tell me  \n",
       "2                            That's so sad. I am sorry!  \n",
       "3     I can understand very how your mom is going th...  \n",
       "4            Time will heel her. That I can assure you.  \n",
       "...                                                 ...  \n",
       "1364  That is a good idea too. Having boundaries is ...  \n",
       "1365  I understand that friends can disappoint us so...  \n",
       "1366  I am proud of you today because you reached ou...  \n",
       "1367  Yes, you're growing and trying to do your best...  \n",
       "1368  You are welcome and here for you anytime. I am...  \n",
       "\n",
       "[1369 rows x 5 columns]"
      ]
     },
     "execution_count": 3,
     "metadata": {},
     "output_type": "execute_result"
    }
   ],
   "source": [
    "gt_df"
   ]
  },
  {
   "cell_type": "code",
   "execution_count": 5,
   "metadata": {},
   "outputs": [],
   "source": [
    "def compute_metrics(texts):\n",
    "    tokens = [word_tokenize(text) for text in texts]\n",
    "    ret = {\n",
    "        \"avg_len\": np.mean([len(x) for x in tokens]),\n",
    "        \"dist_2\": distinct_2(tokens)\n",
    "    }\n",
    "    return ret"
   ]
  },
  {
   "cell_type": "code",
   "execution_count": 13,
   "metadata": {},
   "outputs": [
    {
     "data": {
      "text/plain": [
       "{'avg_len': 20.08619430241052, 'dist_2': 0.5008611121742126}"
      ]
     },
     "execution_count": 13,
     "metadata": {},
     "output_type": "execute_result"
    }
   ],
   "source": [
    "compute_metrics(gt_texts)"
   ]
  },
  {
   "cell_type": "code",
   "execution_count": 6,
   "metadata": {},
   "outputs": [
    {
     "data": {
      "text/plain": [
       "{'avg_len': 18.08254200146092, 'dist_2': 0.17245360472077312}"
      ]
     },
     "execution_count": 6,
     "metadata": {},
     "output_type": "execute_result"
    }
   ],
   "source": [
    "fname = \"../train_esconv_outputs/bart_baseline1/infer1/generated_predictions.txt\"\n",
    "texts = [line.strip() for line in open(fname, encoding=\"utf-8\")]\n",
    "compute_metrics(texts)"
   ]
  },
  {
   "cell_type": "code",
   "execution_count": null,
   "metadata": {},
   "outputs": [],
   "source": []
  }
 ],
 "metadata": {
  "kernelspec": {
   "display_name": "base",
   "language": "python",
   "name": "python3"
  },
  "language_info": {
   "codemirror_mode": {
    "name": "ipython",
    "version": 3
   },
   "file_extension": ".py",
   "mimetype": "text/x-python",
   "name": "python",
   "nbconvert_exporter": "python",
   "pygments_lexer": "ipython3",
   "version": "3.8.13 (default, Mar 28 2022, 11:38:47) \n[GCC 7.5.0]"
  },
  "orig_nbformat": 4,
  "vscode": {
   "interpreter": {
    "hash": "0a2c21b6ce3a9a25fbf96bbbc230c069683ea074939a9001cdcf1028939befc4"
   }
  }
 },
 "nbformat": 4,
 "nbformat_minor": 2
}
